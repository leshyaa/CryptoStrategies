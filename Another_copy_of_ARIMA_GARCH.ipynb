{
  "nbformat": 4,
  "nbformat_minor": 0,
  "metadata": {
    "colab": {
      "provenance": []
    },
    "kernelspec": {
      "name": "python3",
      "display_name": "Python 3"
    },
    "language_info": {
      "name": "python"
    }
  },
  "cells": [
    {
      "cell_type": "code",
      "source": [
        "!pip -q install arch\n",
        "\n",
        "import numpy as np\n",
        "import pandas as pd\n",
        "import seaborn as sns\n",
        "import matplotlib.pyplot as plt\n",
        "from scipy import stats\n",
        "from arch import arch_model\n",
        "from itertools import product\n",
        "from datetime import datetime\n",
        "import statsmodels.api as sm\n",
        "from statsmodels.tsa.arima_model import ARIMA\n",
        "from statsmodels.tsa.statespace.sarimax import SARIMAX\n",
        "\n",
        "import warnings\n",
        "plt.style.use('seaborn-poster')\n",
        "warnings.filterwarnings(\"ignore\")"
      ],
      "metadata": {
        "id": "vLpdo2v8lj8-",
        "colab": {
          "base_uri": "https://localhost:8080/"
        },
        "outputId": "e91750cd-d0a2-4bfa-9a91-06861749a1fa"
      },
      "execution_count": null,
      "outputs": [
        {
          "output_type": "stream",
          "name": "stdout",
          "text": [
            "\u001b[?25l     \u001b[90m━━━━━━━━━━━━━━━━━━━━━━━━━━━━━━━━━━━━━━━━\u001b[0m \u001b[32m0.0/981.7 kB\u001b[0m \u001b[31m?\u001b[0m eta \u001b[36m-:--:--\u001b[0m\r\u001b[2K     \u001b[91m━\u001b[0m\u001b[91m╸\u001b[0m\u001b[90m━━━━━━━━━━━━━━━━━━━━━━━━━━━━━━━━━━━━━━\u001b[0m \u001b[32m41.0/981.7 kB\u001b[0m \u001b[31m1.1 MB/s\u001b[0m eta \u001b[36m0:00:01\u001b[0m\r\u001b[2K     \u001b[91m━━━━━━━━━━━━━━\u001b[0m\u001b[90m╺\u001b[0m\u001b[90m━━━━━━━━━━━━━━━━━━━━━━━━━\u001b[0m \u001b[32m348.2/981.7 kB\u001b[0m \u001b[31m5.1 MB/s\u001b[0m eta \u001b[36m0:00:01\u001b[0m\r\u001b[2K     \u001b[91m━━━━━━━━━━━━━━━━━━━━━━━━━━━━━━━━━━━━━━━\u001b[0m\u001b[91m╸\u001b[0m \u001b[32m972.8/981.7 kB\u001b[0m \u001b[31m11.3 MB/s\u001b[0m eta \u001b[36m0:00:01\u001b[0m\r\u001b[2K     \u001b[90m━━━━━━━━━━━━━━━━━━━━━━━━━━━━━━━━━━━━━━━━\u001b[0m \u001b[32m981.7/981.7 kB\u001b[0m \u001b[31m8.8 MB/s\u001b[0m eta \u001b[36m0:00:00\u001b[0m\n",
            "\u001b[?25h"
          ]
        },
        {
          "output_type": "stream",
          "name": "stderr",
          "text": [
            "<ipython-input-1-7cd84bded8f7>:16: MatplotlibDeprecationWarning: The seaborn styles shipped by Matplotlib are deprecated since 3.6, as they no longer correspond to the styles shipped by seaborn. However, they will remain available as 'seaborn-v0_8-<style>'. Alternatively, directly use the seaborn API instead.\n",
            "  plt.style.use('seaborn-poster')\n"
          ]
        }
      ]
    },
    {
      "cell_type": "code",
      "source": [
        "from google.colab import drive\n",
        "drive.mount('/content/drive')\n"
      ],
      "metadata": {
        "colab": {
          "base_uri": "https://localhost:8080/"
        },
        "id": "kSbFftcElpbS",
        "outputId": "25312977-e4a5-4586-aca6-b2146610a2f5"
      },
      "execution_count": null,
      "outputs": [
        {
          "output_type": "stream",
          "name": "stdout",
          "text": [
            "Mounted at /content/drive\n"
          ]
        }
      ]
    },
    {
      "cell_type": "code",
      "source": [
        "df = pd.read_csv(\"/content/drive/MyDrive/btcusdt_1h.csv\")\n",
        "df[\"datetime\"] = pd.to_datetime(df[\"datetime\"])\n",
        "df.set_index(\"datetime\", inplace = True)\n",
        "df.shape\n",
        "df[\"return\"] = df[\"close\"].pct_change().shift(-1) * 100\n",
        "df.fillna(0, inplace=True)"
      ],
      "metadata": {
        "id": "NWXPbgKhtjRx"
      },
      "execution_count": null,
      "outputs": []
    },
    {
      "cell_type": "code",
      "source": [
        "def arima_m(df, win):\n",
        "    arima = np.zeros(df.shape[0])\n",
        "    for i in range(0, df.shape[0], int(0.1*win)):\n",
        "        try:\n",
        "            arima_model = SARIMAX(np.log(df.close.iloc[i:i+win]), order=(1, 0, 1)).fit(disp=-1)\n",
        "            arima[i+win: i+int(1.1*win)] = np.exp(arima_model.predict(start = win, end =int(1.1*win)-1))\n",
        "        except:\n",
        "            arima_model = SARIMAX(np.log(df.close.iloc[-int(1.1*win):-int(0.1*win)]), order=(1, 0, 1)).fit(disp=-1)\n",
        "            arima[-int(0.1*win): ] = np.exp(arima_model.predict(start = win, end =int(1.1*win)-1))\n",
        "    return arima\n",
        "\n",
        "def garch_m(df, win):\n",
        "    garch = np.zeros(df.shape[0])\n",
        "    for i in range(0, win, 100):\n",
        "      garch_model = arch_model(df['return'].iloc[i:int(i+100)], vol='EGARCH', p = 1, o = 0, q = 1, rescale = False).fit(options={'maxiter': 2000}, disp = 0)\n",
        "      garch[i+100: i+110] = np.sqrt(np.array(garch_model.forecast(horizon = 10 , method='simulation', reindex=False).variance))\n",
        "    for i in range(0, df.shape[0], int(0.1*win)):\n",
        "        try:\n",
        "            garch_model = arch_model(df['return'].iloc[i:int(i+win)], vol='EGARCH', p = 1, o = 0, q = 1, rescale = False).fit(options={'maxiter': 2000}, disp = 0)\n",
        "            garch[i+win: i+int(1.1*win)] = np.sqrt(np.array(garch_model.forecast(horizon = int(0.1*win) , method='simulation', reindex=False).variance))\n",
        "        except:\n",
        "            garch_model = arch_model(df['return'].iloc[-int(1.1*win):-int(0.1*win)], vol='EGARCH', p = 1, o = 0, q = 1, rescale = False).fit(options={'maxiter': 2000}, disp = 0)\n",
        "            garch[-int(0.1*win): ] = np.sqrt(np.array(garch_model.forecast(horizon = int(0.1*win) , method='simulation', reindex=False).variance))\n",
        "    return garch"
      ],
      "metadata": {
        "id": "C-y2tp6-lvpJ"
      },
      "execution_count": null,
      "outputs": []
    },
    {
      "cell_type": "code",
      "source": [
        "df['garch'] = garch_m(df, 1000)"
      ],
      "metadata": {
        "id": "msExTSFDvoLg"
      },
      "execution_count": null,
      "outputs": []
    },
    {
      "cell_type": "code",
      "source": [
        "win = 720\n",
        "df['arima'] = arima_m(df, win)"
      ],
      "metadata": {
        "id": "h9WmR9OKlwZ3"
      },
      "execution_count": null,
      "outputs": []
    },
    {
      "cell_type": "code",
      "source": [
        "df['signals'] = np.zeros(df.shape[0])\n",
        "i = win-1\n",
        "gap = int(win/10) - 1\n",
        "while i < (df.shape[0]-gap):\n",
        "    d = df.arima.iloc[i+gap] - df.arima.iloc[i]\n",
        "    if d > 200  and d < 5000 and df.garch.iloc[i] >0.5 and df.garch.iloc[i] < 4:\n",
        "        df['signals'].iloc[i]  = 1\n",
        "        df['signals'].iloc[i+gap] = -1\n",
        "    elif d <-200 and d > -5000 and df.garch.iloc[i] >0.5 and df.garch.iloc[i] < 4 :\n",
        "        df['signals'].iloc[i]  = -1\n",
        "        df['signals'].iloc[i+gap] = +1\n",
        "    i += gap+1"
      ],
      "metadata": {
        "id": "QTGFFDvXlz87"
      },
      "execution_count": null,
      "outputs": []
    },
    {
      "cell_type": "code",
      "source": [
        "\n",
        "def pnl(df):\n",
        "    pred = []\n",
        "    pos = 0\n",
        "    profit = 0\n",
        "    bt = 1000\n",
        "    actual_loss = 0\n",
        "    actual_profit = 0\n",
        "    win = 0\n",
        "    lose = 0\n",
        "    maxi = 0\n",
        "    holdout = 0\n",
        "    for index, row in df.iterrows():\n",
        "        if pos < 1 and df.signals[index] == 1:\n",
        "            pos+=1\n",
        "            bt /= df.close[index]\n",
        "        elif pos > -1 and df.signals[index] == -1:\n",
        "            pos -=1\n",
        "            bt *= df.close[index]\n",
        "        else:\n",
        "            holdout += 1\n",
        "            continue\n",
        "        if pos == 0:\n",
        "            holdout += 1\n",
        "            maxi = max(holdout, maxi)\n",
        "            holdout = 0\n",
        "            comm = 0.001*(bt+1000)\n",
        "            profit += bt - 1000 - comm\n",
        "            if (bt - 1000 - comm) < 0:\n",
        "                lose += 1\n",
        "                actual_loss += abs(bt - 1000 - comm)\n",
        "            else:\n",
        "                win += 1\n",
        "                actual_profit += bt - 1000 - comm\n",
        "            bt = 1000\n",
        "\n",
        "            pred.append(profit)\n",
        "    print(\"holdout:\", maxi)\n",
        "    print(\"PF: \",actual_profit/actual_loss)\n",
        "    print(\"Number of winning trades: \", win)\n",
        "    print(\"Number of losing trades:\", lose)\n",
        "    return pred\n",
        "\n",
        "pnl(df)[-1]"
      ],
      "metadata": {
        "colab": {
          "base_uri": "https://localhost:8080/"
        },
        "id": "ZHMDve_wva9E",
        "outputId": "de310b10-c245-4f28-f7e5-010cf6d56b47"
      },
      "execution_count": null,
      "outputs": [
        {
          "output_type": "stream",
          "name": "stdout",
          "text": [
            "holdout: 1967\n",
            "PF:  0.8223642642493101\n",
            "Number of winning trades:  183\n",
            "Number of losing trades: 210\n"
          ]
        },
        {
          "output_type": "execute_result",
          "data": {
            "text/plain": [
              "-1655.1221137841558"
            ]
          },
          "metadata": {},
          "execution_count": 13
        }
      ]
    },
    {
      "cell_type": "code",
      "source": [
        "df = df[['open', 'high', 'low', 'close', 'volume', 'signals']]\n",
        "df.reset_index(inplace=True)\n",
        "df['Index'] = df.index\n",
        "df[['Index', 'datetime', 'open', 'high', 'low', 'close', 'volume', 'signals']].to_csv('/content/drive/MyDrive/logs.csv')"
      ],
      "metadata": {
        "id": "31skSXxCQ_uJ"
      },
      "execution_count": null,
      "outputs": []
    }
  ]
}