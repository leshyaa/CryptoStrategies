{
  "cells": [
    {
      "cell_type": "code",
      "execution_count": null,
      "id": "aa7a092f",
      "metadata": {
        "id": "aa7a092f"
      },
      "outputs": [],
      "source": [
        "import matplotlib.pyplot as plt\n",
        "\n",
        "#Just for metrics\n",
        "\n",
        "def pnl(df):\n",
        "    pred = []\n",
        "    pos = 0\n",
        "    profit = 0\n",
        "    bt = 1000\n",
        "    actual_loss = 0\n",
        "    actual_profit = 0\n",
        "    win = 0\n",
        "    lose = 0\n",
        "    mdd = 0\n",
        "    for index, row in df.iterrows():\n",
        "        if pos ==1:\n",
        "          mdd = max(mdd, 1 - df.close[index]*bt/1000)\n",
        "        elif pos==-1:\n",
        "          mdd = max(mdd, df.close[index]*1000/bt - 1)\n",
        "          pass\n",
        "        if pos < 1 and df.signals[index] == 1:\n",
        "            pos+=1\n",
        "            bt /= df.close[index]\n",
        "        elif pos > -1 and df.signals[index] == -1:\n",
        "            pos -=1\n",
        "            bt *= df.close[index]\n",
        "        else:\n",
        "            continue\n",
        "        if pos == 0:\n",
        "            comm = 0.001*(bt+1000)\n",
        "            profit += bt - 1000 - comm\n",
        "            if (bt - 1000 - comm) < 0:\n",
        "                lose += 1\n",
        "                actual_loss += abs(bt - 1000 - comm)\n",
        "            else:\n",
        "                win += 1\n",
        "                actual_profit += bt - 1000 - comm\n",
        "            bt = 1000\n",
        "\n",
        "            pred.append(profit)\n",
        "    print(\"PF: \",actual_profit/actual_loss)\n",
        "    print(\"Number of winning trades: \", win)\n",
        "    print(\"Number of losing trades: \", lose)\n",
        "    print(\"Maximum Drawdown: \", mdd*100)\n",
        "    return pred\n"
      ]
    },
    {
      "cell_type": "code",
      "source": [
        "from google.colab import drive\n",
        "drive.mount('/content/drive')"
      ],
      "metadata": {
        "colab": {
          "base_uri": "https://localhost:8080/"
        },
        "id": "pHw1Nm4cn5te",
        "outputId": "d5a027d1-5d48-48c8-a2f8-7e67a1aa53af"
      },
      "id": "pHw1Nm4cn5te",
      "execution_count": null,
      "outputs": [
        {
          "output_type": "stream",
          "name": "stdout",
          "text": [
            "Mounted at /content/drive\n"
          ]
        }
      ]
    },
    {
      "cell_type": "code",
      "execution_count": null,
      "id": "363b0f30",
      "metadata": {
        "id": "363b0f30"
      },
      "outputs": [],
      "source": [
        "import pandas as pd\n",
        "import numpy as np\n",
        "\n",
        "\n",
        "df_hour = pd.read_csv(\"/content/drive/MyDrive/btcusdt_1h.csv\")\n",
        "#df_hour = pd.read_csv(\"btcusdt_1h.csv\")\n",
        "df_hour[\"datetime\"] = pd.to_datetime(df_hour[\"datetime\"])\n",
        "df_hour.set_index(\"datetime\", inplace = True)\n",
        "df_hour.shape\n",
        "\n",
        "# Resampling to daily  frequency\n",
        "df_day = pd.DataFrame()\n",
        "df_day['open'] = df_hour.resample(\"D\").open.first()\n",
        "df_day['close'] = df_hour.resample(\"D\").close.last()\n",
        "df_day['high']=df_hour.resample(\"D\").high.max()\n",
        "df_day['low'] = df_hour.resample(\"D\").low.min()\n",
        "df_day['volume'] = df_hour.resample(\"D\").volume.sum()\n",
        "df_day.reset_index(inplace=True)\n",
        "df = pd.DataFrame(df_hour)\n"
      ]
    },
    {
      "cell_type": "code",
      "execution_count": null,
      "id": "a589b8fe",
      "metadata": {
        "id": "a589b8fe"
      },
      "outputs": [],
      "source": [
        "def darvas(df, win):\n",
        "    signals = np.zeros(df.shape[0])\n",
        "    darvas_up = df.high.rolling(win).max()\n",
        "    darvas_down = df.low.rolling(win).min()\n",
        "    pos = 0\n",
        "    for i in range(win, df.shape[0]):\n",
        "        if df.close.iloc[i] > 0.95*darvas_up.iloc[i-1]:\n",
        "            if pos==0:\n",
        "                signals[i] = 1\n",
        "                pos = 1\n",
        "            elif pos==-1:\n",
        "                signals[i] = 1\n",
        "                pos = 0\n",
        "        elif df.close.iloc[i] < 1.05*darvas_down.iloc[i-1]:\n",
        "            if pos==0:\n",
        "                signals[i] = -1\n",
        "                pos = -1\n",
        "            elif pos==1:\n",
        "                signals[i] = -1\n",
        "                pos = 0\n",
        "    return signals\n"
      ]
    },
    {
      "cell_type": "code",
      "execution_count": null,
      "id": "fe04babb",
      "metadata": {
        "id": "fe04babb",
        "outputId": "072af5f1-8867-40f6-cc3c-81541389ea1a",
        "colab": {
          "base_uri": "https://localhost:8080/"
        }
      },
      "outputs": [
        {
          "output_type": "stream",
          "name": "stdout",
          "text": [
            "PF:  2.0214781468241765\n",
            "Number of winning trades:  85\n",
            "Number of losing trades:  278\n",
            "Maximum Drawdown:  16.2031438935913\n"
          ]
        },
        {
          "output_type": "execute_result",
          "data": {
            "text/plain": [
              "5175.635356471491"
            ]
          },
          "metadata": {},
          "execution_count": 22
        }
      ],
      "source": [
        "df['signals'] = darvas(df, 180)\n",
        "pnl(df)[-1]"
      ]
    },
    {
      "cell_type": "code",
      "execution_count": null,
      "id": "5eb2e783",
      "metadata": {
        "id": "5eb2e783"
      },
      "outputs": [],
      "source": [
        "df2 = df[['open', 'high', 'low', 'close', 'volume', 'signals']]\n",
        "df2.reset_index(inplace=True)\n",
        "df2['Index'] = df2.index\n",
        "df2[['Index', 'datetime', 'open', 'high', 'low', 'close', 'volume', 'signals']].to_csv('logs.csv')"
      ]
    }
  ],
  "metadata": {
    "kernelspec": {
      "display_name": "Python 3 (ipykernel)",
      "language": "python",
      "name": "python3"
    },
    "language_info": {
      "codemirror_mode": {
        "name": "ipython",
        "version": 3
      },
      "file_extension": ".py",
      "mimetype": "text/x-python",
      "name": "python",
      "nbconvert_exporter": "python",
      "pygments_lexer": "ipython3",
      "version": "3.10.9"
    },
    "colab": {
      "provenance": []
    }
  },
  "nbformat": 4,
  "nbformat_minor": 5
}